{
 "cells": [
  {
   "cell_type": "code",
   "execution_count": 24,
   "metadata": {},
   "outputs": [],
   "source": [
    "import numpy as np\n",
    "import matplotlib.pyplot as plt\n",
    "from sklearn.tree import DecisionTreeClassifier\n",
    "from sklearn.ensemble import AdaBoostClassifier\n",
    "from sklearn.model_selection import cross_val_score \n",
    "from sklearn import metrics\n",
    "from statistics import mean\n",
    "import pandas as pd"
   ]
  },
  {
   "cell_type": "code",
   "execution_count": 36,
   "metadata": {},
   "outputs": [],
   "source": [
    "data=pd.read_csv('PRSA_data_2010.1.1-2014.12.31.csv')\n",
    "data=data.sample(frac=1)   #random shuffling"
   ]
  },
  {
   "cell_type": "code",
   "execution_count": 37,
   "metadata": {},
   "outputs": [
    {
     "data": {
      "text/html": [
       "<div>\n",
       "<style scoped>\n",
       "    .dataframe tbody tr th:only-of-type {\n",
       "        vertical-align: middle;\n",
       "    }\n",
       "\n",
       "    .dataframe tbody tr th {\n",
       "        vertical-align: top;\n",
       "    }\n",
       "\n",
       "    .dataframe thead th {\n",
       "        text-align: right;\n",
       "    }\n",
       "</style>\n",
       "<table border=\"1\" class=\"dataframe\">\n",
       "  <thead>\n",
       "    <tr style=\"text-align: right;\">\n",
       "      <th></th>\n",
       "      <th>No</th>\n",
       "      <th>year</th>\n",
       "      <th>month</th>\n",
       "      <th>day</th>\n",
       "      <th>hour</th>\n",
       "      <th>pm2.5</th>\n",
       "      <th>DEWP</th>\n",
       "      <th>TEMP</th>\n",
       "      <th>PRES</th>\n",
       "      <th>cbwd</th>\n",
       "      <th>Iws</th>\n",
       "      <th>Is</th>\n",
       "      <th>Ir</th>\n",
       "    </tr>\n",
       "  </thead>\n",
       "  <tbody>\n",
       "    <tr>\n",
       "      <th>30964</th>\n",
       "      <td>30965</td>\n",
       "      <td>2013</td>\n",
       "      <td>7</td>\n",
       "      <td>14</td>\n",
       "      <td>4</td>\n",
       "      <td>99.0</td>\n",
       "      <td>22</td>\n",
       "      <td>24.0</td>\n",
       "      <td>1008.0</td>\n",
       "      <td>SE</td>\n",
       "      <td>50.53</td>\n",
       "      <td>0</td>\n",
       "      <td>0</td>\n",
       "    </tr>\n",
       "    <tr>\n",
       "      <th>29818</th>\n",
       "      <td>29819</td>\n",
       "      <td>2013</td>\n",
       "      <td>5</td>\n",
       "      <td>27</td>\n",
       "      <td>10</td>\n",
       "      <td>65.0</td>\n",
       "      <td>15</td>\n",
       "      <td>19.0</td>\n",
       "      <td>1009.0</td>\n",
       "      <td>NE</td>\n",
       "      <td>1.79</td>\n",
       "      <td>0</td>\n",
       "      <td>0</td>\n",
       "    </tr>\n",
       "    <tr>\n",
       "      <th>17894</th>\n",
       "      <td>17895</td>\n",
       "      <td>2012</td>\n",
       "      <td>1</td>\n",
       "      <td>16</td>\n",
       "      <td>14</td>\n",
       "      <td>NaN</td>\n",
       "      <td>-9</td>\n",
       "      <td>-1.0</td>\n",
       "      <td>1019.0</td>\n",
       "      <td>cv</td>\n",
       "      <td>1.78</td>\n",
       "      <td>0</td>\n",
       "      <td>0</td>\n",
       "    </tr>\n",
       "    <tr>\n",
       "      <th>7572</th>\n",
       "      <td>7573</td>\n",
       "      <td>2010</td>\n",
       "      <td>11</td>\n",
       "      <td>12</td>\n",
       "      <td>12</td>\n",
       "      <td>92.0</td>\n",
       "      <td>-5</td>\n",
       "      <td>-1.0</td>\n",
       "      <td>1016.0</td>\n",
       "      <td>NW</td>\n",
       "      <td>153.30</td>\n",
       "      <td>0</td>\n",
       "      <td>0</td>\n",
       "    </tr>\n",
       "    <tr>\n",
       "      <th>26154</th>\n",
       "      <td>26155</td>\n",
       "      <td>2012</td>\n",
       "      <td>12</td>\n",
       "      <td>25</td>\n",
       "      <td>18</td>\n",
       "      <td>NaN</td>\n",
       "      <td>-23</td>\n",
       "      <td>-8.0</td>\n",
       "      <td>1038.0</td>\n",
       "      <td>NE</td>\n",
       "      <td>3.57</td>\n",
       "      <td>0</td>\n",
       "      <td>0</td>\n",
       "    </tr>\n",
       "    <tr>\n",
       "      <th>41455</th>\n",
       "      <td>41456</td>\n",
       "      <td>2014</td>\n",
       "      <td>9</td>\n",
       "      <td>24</td>\n",
       "      <td>7</td>\n",
       "      <td>11.0</td>\n",
       "      <td>17</td>\n",
       "      <td>17.0</td>\n",
       "      <td>1017.0</td>\n",
       "      <td>NW</td>\n",
       "      <td>1.79</td>\n",
       "      <td>0</td>\n",
       "      <td>0</td>\n",
       "    </tr>\n",
       "    <tr>\n",
       "      <th>9054</th>\n",
       "      <td>9055</td>\n",
       "      <td>2011</td>\n",
       "      <td>1</td>\n",
       "      <td>13</td>\n",
       "      <td>6</td>\n",
       "      <td>149.0</td>\n",
       "      <td>-19</td>\n",
       "      <td>-10.0</td>\n",
       "      <td>1022.0</td>\n",
       "      <td>NW</td>\n",
       "      <td>9.39</td>\n",
       "      <td>0</td>\n",
       "      <td>0</td>\n",
       "    </tr>\n",
       "    <tr>\n",
       "      <th>28667</th>\n",
       "      <td>28668</td>\n",
       "      <td>2013</td>\n",
       "      <td>4</td>\n",
       "      <td>9</td>\n",
       "      <td>11</td>\n",
       "      <td>13.0</td>\n",
       "      <td>-13</td>\n",
       "      <td>12.0</td>\n",
       "      <td>1021.0</td>\n",
       "      <td>NW</td>\n",
       "      <td>302.19</td>\n",
       "      <td>0</td>\n",
       "      <td>0</td>\n",
       "    </tr>\n",
       "    <tr>\n",
       "      <th>33965</th>\n",
       "      <td>33966</td>\n",
       "      <td>2013</td>\n",
       "      <td>11</td>\n",
       "      <td>16</td>\n",
       "      <td>5</td>\n",
       "      <td>71.0</td>\n",
       "      <td>-8</td>\n",
       "      <td>8.0</td>\n",
       "      <td>1014.0</td>\n",
       "      <td>NW</td>\n",
       "      <td>6.26</td>\n",
       "      <td>0</td>\n",
       "      <td>0</td>\n",
       "    </tr>\n",
       "    <tr>\n",
       "      <th>5315</th>\n",
       "      <td>5316</td>\n",
       "      <td>2010</td>\n",
       "      <td>8</td>\n",
       "      <td>10</td>\n",
       "      <td>11</td>\n",
       "      <td>17.0</td>\n",
       "      <td>12</td>\n",
       "      <td>30.0</td>\n",
       "      <td>1007.0</td>\n",
       "      <td>SE</td>\n",
       "      <td>1.79</td>\n",
       "      <td>0</td>\n",
       "      <td>0</td>\n",
       "    </tr>\n",
       "  </tbody>\n",
       "</table>\n",
       "</div>"
      ],
      "text/plain": [
       "          No  year  month  day  hour  pm2.5  DEWP  TEMP    PRES cbwd     Iws  \\\n",
       "30964  30965  2013      7   14     4   99.0    22  24.0  1008.0   SE   50.53   \n",
       "29818  29819  2013      5   27    10   65.0    15  19.0  1009.0   NE    1.79   \n",
       "17894  17895  2012      1   16    14    NaN    -9  -1.0  1019.0   cv    1.78   \n",
       "7572    7573  2010     11   12    12   92.0    -5  -1.0  1016.0   NW  153.30   \n",
       "26154  26155  2012     12   25    18    NaN   -23  -8.0  1038.0   NE    3.57   \n",
       "41455  41456  2014      9   24     7   11.0    17  17.0  1017.0   NW    1.79   \n",
       "9054    9055  2011      1   13     6  149.0   -19 -10.0  1022.0   NW    9.39   \n",
       "28667  28668  2013      4    9    11   13.0   -13  12.0  1021.0   NW  302.19   \n",
       "33965  33966  2013     11   16     5   71.0    -8   8.0  1014.0   NW    6.26   \n",
       "5315    5316  2010      8   10    11   17.0    12  30.0  1007.0   SE    1.79   \n",
       "\n",
       "       Is  Ir  \n",
       "30964   0   0  \n",
       "29818   0   0  \n",
       "17894   0   0  \n",
       "7572    0   0  \n",
       "26154   0   0  \n",
       "41455   0   0  \n",
       "9054    0   0  \n",
       "28667   0   0  \n",
       "33965   0   0  \n",
       "5315    0   0  "
      ]
     },
     "execution_count": 37,
     "metadata": {},
     "output_type": "execute_result"
    }
   ],
   "source": [
    "data.head(10)"
   ]
  },
  {
   "cell_type": "code",
   "execution_count": 38,
   "metadata": {},
   "outputs": [
    {
     "data": {
      "text/plain": [
       "2067"
      ]
     },
     "execution_count": 38,
     "metadata": {},
     "output_type": "execute_result"
    }
   ],
   "source": [
    "data.isna().sum().sum()"
   ]
  },
  {
   "cell_type": "code",
   "execution_count": 39,
   "metadata": {},
   "outputs": [
    {
     "data": {
      "text/html": [
       "<div>\n",
       "<style scoped>\n",
       "    .dataframe tbody tr th:only-of-type {\n",
       "        vertical-align: middle;\n",
       "    }\n",
       "\n",
       "    .dataframe tbody tr th {\n",
       "        vertical-align: top;\n",
       "    }\n",
       "\n",
       "    .dataframe thead th {\n",
       "        text-align: right;\n",
       "    }\n",
       "</style>\n",
       "<table border=\"1\" class=\"dataframe\">\n",
       "  <thead>\n",
       "    <tr style=\"text-align: right;\">\n",
       "      <th></th>\n",
       "      <th>year</th>\n",
       "      <th>month</th>\n",
       "      <th>day</th>\n",
       "      <th>hour</th>\n",
       "      <th>pm2.5</th>\n",
       "      <th>DEWP</th>\n",
       "      <th>TEMP</th>\n",
       "      <th>PRES</th>\n",
       "      <th>Iws</th>\n",
       "      <th>Is</th>\n",
       "      <th>Ir</th>\n",
       "      <th>NE</th>\n",
       "      <th>NW</th>\n",
       "      <th>SE</th>\n",
       "      <th>cv</th>\n",
       "    </tr>\n",
       "  </thead>\n",
       "  <tbody>\n",
       "    <tr>\n",
       "      <th>30964</th>\n",
       "      <td>2013</td>\n",
       "      <td>7</td>\n",
       "      <td>14</td>\n",
       "      <td>4</td>\n",
       "      <td>99.0</td>\n",
       "      <td>22</td>\n",
       "      <td>24.0</td>\n",
       "      <td>1008.0</td>\n",
       "      <td>50.53</td>\n",
       "      <td>0</td>\n",
       "      <td>0</td>\n",
       "      <td>0</td>\n",
       "      <td>0</td>\n",
       "      <td>1</td>\n",
       "      <td>0</td>\n",
       "    </tr>\n",
       "    <tr>\n",
       "      <th>29818</th>\n",
       "      <td>2013</td>\n",
       "      <td>5</td>\n",
       "      <td>27</td>\n",
       "      <td>10</td>\n",
       "      <td>65.0</td>\n",
       "      <td>15</td>\n",
       "      <td>19.0</td>\n",
       "      <td>1009.0</td>\n",
       "      <td>1.79</td>\n",
       "      <td>0</td>\n",
       "      <td>0</td>\n",
       "      <td>1</td>\n",
       "      <td>0</td>\n",
       "      <td>0</td>\n",
       "      <td>0</td>\n",
       "    </tr>\n",
       "    <tr>\n",
       "      <th>7572</th>\n",
       "      <td>2010</td>\n",
       "      <td>11</td>\n",
       "      <td>12</td>\n",
       "      <td>12</td>\n",
       "      <td>92.0</td>\n",
       "      <td>-5</td>\n",
       "      <td>-1.0</td>\n",
       "      <td>1016.0</td>\n",
       "      <td>153.30</td>\n",
       "      <td>0</td>\n",
       "      <td>0</td>\n",
       "      <td>0</td>\n",
       "      <td>1</td>\n",
       "      <td>0</td>\n",
       "      <td>0</td>\n",
       "    </tr>\n",
       "    <tr>\n",
       "      <th>41455</th>\n",
       "      <td>2014</td>\n",
       "      <td>9</td>\n",
       "      <td>24</td>\n",
       "      <td>7</td>\n",
       "      <td>11.0</td>\n",
       "      <td>17</td>\n",
       "      <td>17.0</td>\n",
       "      <td>1017.0</td>\n",
       "      <td>1.79</td>\n",
       "      <td>0</td>\n",
       "      <td>0</td>\n",
       "      <td>0</td>\n",
       "      <td>1</td>\n",
       "      <td>0</td>\n",
       "      <td>0</td>\n",
       "    </tr>\n",
       "    <tr>\n",
       "      <th>9054</th>\n",
       "      <td>2011</td>\n",
       "      <td>1</td>\n",
       "      <td>13</td>\n",
       "      <td>6</td>\n",
       "      <td>149.0</td>\n",
       "      <td>-19</td>\n",
       "      <td>-10.0</td>\n",
       "      <td>1022.0</td>\n",
       "      <td>9.39</td>\n",
       "      <td>0</td>\n",
       "      <td>0</td>\n",
       "      <td>0</td>\n",
       "      <td>1</td>\n",
       "      <td>0</td>\n",
       "      <td>0</td>\n",
       "    </tr>\n",
       "  </tbody>\n",
       "</table>\n",
       "</div>"
      ],
      "text/plain": [
       "       year  month  day  hour  pm2.5  DEWP  TEMP    PRES     Iws  Is  Ir  NE  \\\n",
       "30964  2013      7   14     4   99.0    22  24.0  1008.0   50.53   0   0   0   \n",
       "29818  2013      5   27    10   65.0    15  19.0  1009.0    1.79   0   0   1   \n",
       "7572   2010     11   12    12   92.0    -5  -1.0  1016.0  153.30   0   0   0   \n",
       "41455  2014      9   24     7   11.0    17  17.0  1017.0    1.79   0   0   0   \n",
       "9054   2011      1   13     6  149.0   -19 -10.0  1022.0    9.39   0   0   0   \n",
       "\n",
       "       NW  SE  cv  \n",
       "30964   0   1   0  \n",
       "29818   0   0   0  \n",
       "7572    1   0   0  \n",
       "41455   1   0   0  \n",
       "9054    1   0   0  "
      ]
     },
     "execution_count": 39,
     "metadata": {},
     "output_type": "execute_result"
    }
   ],
   "source": [
    "data = data.dropna()\n",
    "data.head()\n",
    "\n",
    "one_hot=pd.get_dummies(data['cbwd'])\n",
    "data=data.drop('cbwd',axis = 1)\n",
    "data=data.join(one_hot)\n",
    "data=data.drop(['No'],axis=1) #dropping number of rows\n",
    "data.head()"
   ]
  },
  {
   "cell_type": "code",
   "execution_count": 40,
   "metadata": {},
   "outputs": [
    {
     "name": "stdout",
     "output_type": "stream",
     "text": [
      "41757\n"
     ]
    }
   ],
   "source": [
    "data.isna().sum().sum()\n",
    "#all nan rows dropped\n",
    "\n",
    "print(len(data))"
   ]
  },
  {
   "cell_type": "code",
   "execution_count": 41,
   "metadata": {},
   "outputs": [],
   "source": [
    "def train_val_test_split(data,labels, train,val,test):\n",
    "    \"\"\" a function that will get dataset and training dataset fraction as input and return x_train, x_test, y_train, y_test \"\"\"\n",
    "    \n",
    "    print(\"Total length is \"+str(len(data)))\n",
    "    \n",
    "    train_samples=len(data)*train//(train+test+val)\n",
    "    val_samples=len(data)*val//(train+test+val)\n",
    "    \n",
    "    \n",
    "    train_data=data[:train_samples]\n",
    "    train_labels=labels[:train_samples]\n",
    "    \n",
    "    val_data=data[train_samples+1:train_samples+val_samples+1]\n",
    "    val_labels=labels[train_samples+1:train_samples+val_samples+1]\n",
    "    \n",
    "    test_data=data[train_samples+val_samples:]\n",
    "    test_labels=labels[train_samples+val_samples:]\n",
    "    \n",
    "    return train_data,train_labels,val_data,val_labels,test_data,test_labels"
   ]
  },
  {
   "cell_type": "code",
   "execution_count": 42,
   "metadata": {},
   "outputs": [],
   "source": [
    "labels=data['month']\n",
    "data=data.drop(['month'],axis=1)"
   ]
  },
  {
   "cell_type": "code",
   "execution_count": 43,
   "metadata": {},
   "outputs": [
    {
     "name": "stdout",
     "output_type": "stream",
     "text": [
      "Total length is 41757\n"
     ]
    }
   ],
   "source": [
    "x_train,y_train,x_val,y_val,x_test,y_test=train_val_test_split(data,labels,70,15,15)"
   ]
  },
  {
   "cell_type": "code",
   "execution_count": 52,
   "metadata": {},
   "outputs": [
    {
     "name": "stdout",
     "output_type": "stream",
     "text": [
      "Accuracy using gini index is 0.8215482841181165\n"
     ]
    }
   ],
   "source": [
    "gini_tree=DecisionTreeClassifier(criterion=\"gini\")\n",
    "gini_tree.fit(x_train,y_train)\n",
    "acc=gini_tree.score(x_test,y_test)\n",
    "\n",
    "print(\"Accuracy using gini index is \"+str(acc))"
   ]
  },
  {
   "cell_type": "code",
   "execution_count": 53,
   "metadata": {},
   "outputs": [
    {
     "name": "stdout",
     "output_type": "stream",
     "text": [
      "Accuracy using entropy is 0.8233040702314446\n"
     ]
    }
   ],
   "source": [
    "entropy_tree=DecisionTreeClassifier(criterion=\"entropy\")\n",
    "entropy_tree.fit(x_train,y_train)\n",
    "acc=entropy_tree.score(x_test,y_test)\n",
    "\n",
    "print(\"Accuracy using entropy is \"+str(acc))"
   ]
  },
  {
   "cell_type": "code",
   "execution_count": 55,
   "metadata": {},
   "outputs": [
    {
     "data": {
      "image/png": "[encoded data removed]",
      "text/plain": [
       "<Figure size 432x288 with 1 Axes>"
      ]
     },
     "metadata": {
      "needs_background": "light"
     },
     "output_type": "display_data"
    }
   ],
   "source": [
    "#for different depth\n",
    "#using entropy as it gives more accuracy\n",
    "\n",
    "depth_array=[2,4,8,10,15,30]\n",
    "train_acc=[]\n",
    "test_acc=[]\n",
    "\n",
    "for i in depth_array:\n",
    "    entropy_tree=DecisionTreeClassifier(criterion=\"entropy\",max_depth=i)\n",
    "    entropy_tree.fit(x_train,y_train)\n",
    "    training=entropy_tree.score(x_train,y_train)\n",
    "    testing=entropy_tree.score(x_test,y_test)\n",
    "    train_acc.append(training)\n",
    "    test_acc.append(testing)\n",
    "    \n",
    "plt.plot(depth_array,train_acc,'r',label='training')\n",
    "plt.plot(depth_array,test_acc,'b',label='testing')\n",
    "plt.xlabel('Tree depth')\n",
    "plt.ylabel('Accuracy')\n",
    "plt.legend()\n",
    "plt.show()"
   ]
  },
  {
   "cell_type": "code",
   "execution_count": 79,
   "metadata": {},
   "outputs": [
    {
     "name": "stdout",
     "output_type": "stream",
     "text": [
      "Accuracy obtained is 0.3599361532322426\n"
     ]
    }
   ],
   "source": [
    "def max_vote(predictions):\n",
    "    final_prediction=[]\n",
    "    for j in range(len(predictions[0])):\n",
    "        maxi={}\n",
    "        for i in predictions:\n",
    "            if(i[j] in maxi):\n",
    "                maxi[i[j]]+=1\n",
    "            else:\n",
    "                maxi[i[j]]=1\n",
    "        max_key=max(maxi, key= lambda x: maxi[x])\n",
    "        final_prediction.append(max_key)\n",
    "    \n",
    "    return final_prediction\n",
    "\n",
    "stumps=[]\n",
    "predictions=[]\n",
    "for i in range(100):\n",
    "    stumps.append(DecisionTreeClassifier(criterion=\"entropy\",max_depth=3))\n",
    "    x_train_frac=x_train.sample(frac=0.5)\n",
    "    y_train_frac=y_train.loc[x_train_frac.index]\n",
    "    stumps[i].fit(x_train,y_train)\n",
    "    predicts=stumps[i].predict(x_test)\n",
    "    predictions.append(predicts)\n",
    "\n",
    "final_prediction=max_vote(predictions)\n",
    "accuracy=np.sum(np.array(final_prediction)==np.array(y_test.to_list()))/len(y_test)\n",
    "\n",
    "print(\"Accuracy obtained is \"+str(accuracy))"
   ]
  },
  {
   "cell_type": "code",
   "execution_count": 84,
   "metadata": {},
   "outputs": [
    {
     "data": {
      "image/png": "[encoded data removed]",
      "text/plain": [
       "<Figure size 432x288 with 1 Axes>"
      ]
     },
     "metadata": {
      "needs_background": "light"
     },
     "output_type": "display_data"
    }
   ],
   "source": [
    "train_accuracies=[]\n",
    "val_accuracies=[]\n",
    "test_accuracies=[]\n",
    "\n",
    "depth=[4,8,10,15,20]\n",
    "for d in depth:\n",
    "    stumps=[]\n",
    "    predictions=[]\n",
    "    val_predictions=[]\n",
    "    test_predictions=[]\n",
    "    for i in range(100):\n",
    "        stumps.append(DecisionTreeClassifier(criterion=\"entropy\",max_depth=d))\n",
    "        x_train_frac=x_train.sample(frac=0.5)\n",
    "        y_train_frac=y_train.loc[x_train_frac.index]\n",
    "        stumps[i].fit(x_train,y_train)\n",
    "\n",
    "        predictions.append(stumps[i].predict(x_train))        \n",
    "        val_predictions.append(stumps[i].predict(x_val))\n",
    "        test_predictions.append(stumps[i].predict(x_test))\n",
    "        \n",
    "    final_prediction=max_vote(predictions)\n",
    "    final_val_prediction=max_vote(val_predictions)\n",
    "    final_test_prediction=max_vote(test_predictions)\n",
    "    \n",
    "    accuracy=np.sum(np.array(final_prediction)==np.array(y_train.to_list()))/len(y_train)\n",
    "    val_accuracy=np.sum(np.array(final_val_prediction)==np.array(y_val.to_list()))/len(y_val)\n",
    "    test_accuracy=np.sum(np.array(final_test_prediction)==np.array(y_test.to_list()))/len(y_test)\n",
    "    \n",
    "    train_accuracies.append(accuracy)\n",
    "    val_accuracies.append(val_accuracy)\n",
    "    test_accuracies.append(test_accuracy)\n",
    "    \n",
    "plt.plot(depth,train_accuracies,'r',label='training')\n",
    "plt.plot(depth,val_accuracies,'b',label='validation')\n",
    "plt.plot(depth,test_accuracies,'g',label='test')\n",
    "plt.xlabel('Tree depth')\n",
    "plt.ylabel('Accuracy')\n",
    "plt.legend()\n",
    "plt.show()"
   ]
  },
  {
   "cell_type": "code",
   "execution_count": 89,
   "metadata": {},
   "outputs": [
    {
     "data": {
      "image/png": "[encoded data removed]",
      "text/plain": [
       "<Figure size 432x288 with 1 Axes>"
      ]
     },
     "metadata": {
      "needs_background": "light"
     },
     "output_type": "display_data"
    }
   ],
   "source": [
    "estimators = [4, 8, 10, 15, 20]\n",
    "train_accuracies=[]\n",
    "val_accuracies=[]\n",
    "test_accuracies=[]\n",
    "\n",
    "for e in estimators:\n",
    "    model=AdaBoostClassifier(n_estimators=e,base_estimator=DecisionTreeClassifier(criterion=\"entropy\",max_depth=11))\n",
    "    model.fit(x_train, y_train)\n",
    "    train_accuracies.append(model.score(x_train, y_train))\n",
    "    val_accuracies.append(model.score(x_val, y_val))\n",
    "    test_accuracies.append(model.score(x_test , y_test))\n",
    "    \n",
    "plt.plot(depth,train_accuracies,'r',label='training')\n",
    "plt.plot(depth,val_accuracies,'b',label='validation')\n",
    "plt.plot(depth,test_accuracies,'g',label='test')\n",
    "plt.xlabel('Estimators')\n",
    "plt.ylabel('Accuracy')\n",
    "plt.legend()\n",
    "plt.show()"
   ]
  }
 ],
 "metadata": {
  "kernelspec": {
   "display_name": "Python 3",
   "language": "python",
   "name": "python3"
  },
  "language_info": {
   "codemirror_mode": {
    "name": "ipython",
    "version": 3
   },
   "file_extension": ".py",
   "mimetype": "text/x-python",
   "name": "python",
   "nbconvert_exporter": "python",
   "pygments_lexer": "ipython3",
   "version": "3.8.5"
  }
 },
 "nbformat": 4,
 "nbformat_minor": 4
}

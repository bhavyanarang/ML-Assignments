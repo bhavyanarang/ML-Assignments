{
 "cells": [
  {
   "cell_type": "markdown",
   "metadata": {},
   "source": [
    "# Ques 3"
   ]
  },
  {
   "cell_type": "code",
   "execution_count": 22,
   "metadata": {},
   "outputs": [],
   "source": [
    "import numpy as np\n",
    "import matplotlib.pyplot as plt\n",
    "import random\n",
    "import math\n",
    "import pandas as pd\n",
    "import copy\n",
    "from sklearn.metrics import confusion_matrix\n",
    "from sklearn.metrics import plot_roc_curve\n",
    "from sklearn.metrics import precision_recall_fscore_support"
   ]
  },
  {
   "cell_type": "code",
   "execution_count": 3,
   "metadata": {},
   "outputs": [],
   "source": [
    "#to load fmnist, taken from: https://github.com/zalandoresearch/fashion-mnist/blob/master/utils/mnist_reader.py\n",
    "def load_mnist(path, kind='train'):\n",
    "    import os\n",
    "    import gzip\n",
    "    import numpy as np\n",
    "\n",
    "    \"\"\"Load MNIST data from `path`\"\"\"\n",
    "    labels_path = os.path.join(path,\n",
    "                               '%s-labels-idx1-ubyte.gz'\n",
    "                               % kind)\n",
    "    images_path = os.path.join(path,\n",
    "                               '%s-images-idx3-ubyte.gz'\n",
    "                               % kind)\n",
    "\n",
    "    with gzip.open(labels_path, 'rb') as lbpath:\n",
    "        labels = np.frombuffer(lbpath.read(), dtype=np.uint8,\n",
    "                               offset=8)\n",
    "\n",
    "    with gzip.open(images_path, 'rb') as imgpath:\n",
    "        images = np.frombuffer(imgpath.read(), dtype=np.uint8,\n",
    "                               offset=16).reshape(len(labels), 784)\n",
    "\n",
    "    return images, labels\n",
    "\n"
   ]
  },
  {
   "cell_type": "code",
   "execution_count": 4,
   "metadata": {},
   "outputs": [],
   "source": [
    "a, b = load_mnist('', kind='train')\n",
    "c, d = load_mnist('', kind='t10k')\n",
    "\n",
    "train_data=[]\n",
    "train_labels=[]\n",
    "test_data=[]\n",
    "test_labels=[]\n",
    "\n",
    "for i in range(len(b)):\n",
    "    if(b[i]==1 or b[i]==2):          #trouser has class1 and pullover has class 2, we can drop the rest\n",
    "        train_data.append(a[i])\n",
    "        train_labels.append(b[i])\n",
    "        \n",
    "for i in range(len(d)):\n",
    "    if(d[i]==1 or d[i]==2):   \n",
    "        test_data.append(c[i])\n",
    "        test_labels.append(d[i])\n",
    "        \n",
    "train_data=np.array(train_data)\n",
    "train_labels=np.array(train_labels)\n",
    "test_data=np.array(test_data)\n",
    "test_labels=np.array(test_labels)\n"
   ]
  },
  {
   "cell_type": "code",
   "execution_count": 5,
   "metadata": {},
   "outputs": [],
   "source": [
    "def binarize(threshold,train,test):\n",
    "    for i in train:\n",
    "        i[i<threshold]=0\n",
    "        i[i>=threshold]=255\n",
    "        \n",
    "    for i in test:\n",
    "        i[i<threshold]=0\n",
    "        i[i>=threshold]=255\n",
    "    return train,test"
   ]
  },
  {
   "cell_type": "code",
   "execution_count": 6,
   "metadata": {},
   "outputs": [],
   "source": [
    "# train_data,test_data=binarize(128,train_data,test_data)\n",
    "\n",
    "train_data=train_data/255\n",
    "test_data=test_data/255\n"
   ]
  },
  {
   "cell_type": "code",
   "execution_count": 7,
   "metadata": {},
   "outputs": [
    {
     "name": "stdout",
     "output_type": "stream",
     "text": [
      "12000\n",
      "12000\n",
      "2000\n",
      "2000\n"
     ]
    }
   ],
   "source": [
    "print(len(train_data))\n",
    "print(len(train_labels))\n",
    "print(len(test_data))\n",
    "print(len(test_labels))"
   ]
  },
  {
   "cell_type": "markdown",
   "metadata": {},
   "source": [
    "# Part 3.1"
   ]
  },
  {
   "cell_type": "code",
   "execution_count": 8,
   "metadata": {},
   "outputs": [],
   "source": [
    "def log_gaussian(x,mean,var):\n",
    "    if(var<1e-6):\n",
    "        return 0\n",
    "    return -(x-mean)**2/(2*(var**2))+np.log(1/(2*np.pi*(var**2)))/2\n",
    "                  \n",
    "def predict(mean,var,test_data):\n",
    "    prediction=[]\n",
    "    for i in range(len(test_data)):\n",
    "        if(i%500==0):\n",
    "            print(\"Tested \"+str(i)+\" samples.\")\n",
    "        sample=test_data[i]\n",
    "        prob={}\n",
    "        prob[1]=0\n",
    "        prob[2]=0\n",
    "        for j in range(len(sample)):\n",
    "            prob[1]+=log_gaussian(sample[j],mean[1][j],var[1][j])\n",
    "            prob[2]+=log_gaussian(sample[j],mean[2][j],var[2][j])\n",
    "               \n",
    "        if(prob[1]>prob[2]):\n",
    "            prediction.append(1)\n",
    "        else:\n",
    "            prediction.append(2)\n",
    "               \n",
    "    prediction=np.array(prediction)\n",
    "    return prediction\n",
    "\n",
    "def naive_bayes(train_data,train_labels,test_data,test_labels):\n",
    "    classwise={}\n",
    "    for i in range(len(train_labels)):\n",
    "\n",
    "        if train_labels[i] in classwise:\n",
    "            classwise[train_labels[i]].append(train_data[i])\n",
    "        else:\n",
    "            classwise[train_labels[i]]=[]\n",
    "            classwise[train_labels[i]].append(train_data[i])\n",
    "\n",
    "    \n",
    "    classwise[1]=np.array(classwise[1])\n",
    "    classwise[2]=np.array(classwise[2])\n",
    "    \n",
    "    mean={}\n",
    "    var={}\n",
    "    mean[1]=np.mean(classwise[1],axis=0)\n",
    "    mean[2]=np.mean(classwise[2],axis=0)\n",
    "    var[1]=np.var(classwise[1],axis=0)\n",
    "    var[2]=np.var(classwise[2],axis=0)\n",
    "    \n",
    "    prediction=[]\n",
    "    for i in range(len(test_data)):\n",
    "        if(i%500==0):\n",
    "            print(\"Tested \"+str(i)+\" samples.\")\n",
    "        sample=test_data[i]\n",
    "        prob={}\n",
    "        prob[1]=0\n",
    "        prob[2]=0\n",
    "        for j in range(len(sample)):\n",
    "            prob[1]+=log_gaussian(sample[j],mean[1][j],var[1][j])\n",
    "            prob[2]+=log_gaussian(sample[j],mean[2][j],var[2][j])\n",
    "               \n",
    "        if(prob[1]>prob[2]):\n",
    "            prediction.append(1)\n",
    "        else:\n",
    "            prediction.append(2)\n",
    "               \n",
    "    prediction=np.array(prediction)\n",
    "    return mean,var,prediction"
   ]
  },
  {
   "cell_type": "code",
   "execution_count": 9,
   "metadata": {
    "scrolled": true
   },
   "outputs": [
    {
     "name": "stdout",
     "output_type": "stream",
     "text": [
      "Tested 0 samples.\n",
      "Tested 500 samples.\n",
      "Tested 1000 samples.\n",
      "Tested 1500 samples.\n"
     ]
    }
   ],
   "source": [
    "m,v,pred=naive_bayes(train_data,train_labels,test_data,test_labels)"
   ]
  },
  {
   "cell_type": "code",
   "execution_count": 10,
   "metadata": {},
   "outputs": [],
   "source": [
    "def get_accuracy(pred,labels):\n",
    "    correct=0\n",
    "    for i in range(len(pred)):\n",
    "        if(pred[i]==labels[i]):\n",
    "            correct+=1\n",
    "    \n",
    "    accuracy=100*correct/len(labels)\n",
    "    \n",
    "    return(accuracy)\n",
    "def print_accuracy(accuracy):\n",
    "    print(\"Accuracy is: \"+str(accuracy)+' %')"
   ]
  },
  {
   "cell_type": "code",
   "execution_count": 11,
   "metadata": {},
   "outputs": [
    {
     "name": "stdout",
     "output_type": "stream",
     "text": [
      "Accuracy is: 95.95 %\n"
     ]
    }
   ],
   "source": [
    "print_accuracy(get_accuracy(test_labels,pred))"
   ]
  },
  {
   "cell_type": "code",
   "execution_count": 12,
   "metadata": {},
   "outputs": [
    {
     "data": {
      "text/plain": [
       "array([[927,  73],\n",
       "       [  8, 992]], dtype=int64)"
      ]
     },
     "execution_count": 12,
     "metadata": {},
     "output_type": "execute_result"
    }
   ],
   "source": [
    "confusion_matrix(test_labels, pred)"
   ]
  },
  {
   "cell_type": "markdown",
   "metadata": {},
   "source": [
    "# Part 3.2"
   ]
  },
  {
   "cell_type": "code",
   "execution_count": 13,
   "metadata": {},
   "outputs": [],
   "source": [
    "def k_fold_cross_validation(k,train_data,train_labels,test_data,test_labels):\n",
    "    folds=[]    #(contain starting and ending indices)\n",
    "    fold_size=len(train_data)//k\n",
    "    \n",
    "    list_train = train_data.tolist()\n",
    "    list_train_labels = train_labels.tolist()\n",
    "    models={}\n",
    "    \n",
    "    for i in range(k):\n",
    "        if(i==k-1):\n",
    "            folds.append((i*fold_size,len(train_data)))\n",
    "        else:\n",
    "            folds.append((i*fold_size,(i+1)*fold_size))\n",
    "    \n",
    "    for i in range(len(folds)):\n",
    "        cross_test=[]\n",
    "        cross_test_labels=[]\n",
    "        \n",
    "        cross_train=[]\n",
    "        cross_train_labels=[]\n",
    "        s,e=folds[i]\n",
    "        \n",
    "        for k in range(s,e):\n",
    "            cross_test.append(list_train[k])\n",
    "            cross_test_labels.append(list_train_labels[k])\n",
    "        \n",
    "        \n",
    "        \n",
    "        for j in range(len(folds)):\n",
    "            if(i!=j):\n",
    "                st,ed=folds[j]\n",
    "                \n",
    "                for k in range(st,ed):\n",
    "                    cross_train.append(list_train[k])\n",
    "                    cross_train_labels.append(list_train_labels[k])\n",
    "        \n",
    "        \n",
    "        \n",
    "        cross_test=np.array(cross_test)\n",
    "        cross_test_labels=np.array(cross_test_labels)\n",
    "        cross_train=np.array(cross_train)\n",
    "        cross_train_labels=np.array(cross_train_labels)\n",
    "        print(len(cross_train))\n",
    "        print(len(cross_test))\n",
    "        \n",
    "        mean,var,prediction=naive_bayes(cross_train,cross_train_labels,cross_test,cross_test_labels)\n",
    "        \n",
    "        print(\"Taking \"+str(i+1)+\" fold as test set\")\n",
    "        print_accuracy(get_accuracy(prediction,cross_test_labels))\n",
    "        models[i]=(get_accuracy(prediction,cross_test_labels),mean,var)\n",
    "    \n",
    "    return models"
   ]
  },
  {
   "cell_type": "code",
   "execution_count": 14,
   "metadata": {},
   "outputs": [
    {
     "name": "stdout",
     "output_type": "stream",
     "text": [
      "9600\n",
      "2400\n",
      "Tested 0 samples.\n",
      "Tested 500 samples.\n",
      "Tested 1000 samples.\n",
      "Tested 1500 samples.\n",
      "Tested 2000 samples.\n",
      "Taking 1 fold as test set\n",
      "Accuracy is: 95.45833333333333 %\n",
      "9600\n",
      "2400\n",
      "Tested 0 samples.\n",
      "Tested 500 samples.\n",
      "Tested 1000 samples.\n",
      "Tested 1500 samples.\n",
      "Tested 2000 samples.\n",
      "Taking 2 fold as test set\n",
      "Accuracy is: 96.875 %\n",
      "9600\n",
      "2400\n",
      "Tested 0 samples.\n",
      "Tested 500 samples.\n",
      "Tested 1000 samples.\n",
      "Tested 1500 samples.\n",
      "Tested 2000 samples.\n",
      "Taking 3 fold as test set\n",
      "Accuracy is: 96.375 %\n",
      "9600\n",
      "2400\n",
      "Tested 0 samples.\n",
      "Tested 500 samples.\n",
      "Tested 1000 samples.\n",
      "Tested 1500 samples.\n",
      "Tested 2000 samples.\n",
      "Taking 4 fold as test set\n",
      "Accuracy is: 97.625 %\n",
      "9600\n",
      "2400\n",
      "Tested 0 samples.\n",
      "Tested 500 samples.\n",
      "Tested 1000 samples.\n",
      "Tested 1500 samples.\n",
      "Tested 2000 samples.\n",
      "Taking 5 fold as test set\n",
      "Accuracy is: 97.33333333333333 %\n"
     ]
    }
   ],
   "source": [
    "models=k_fold_cross_validation(5,train_data,train_labels,test_data,test_labels)"
   ]
  },
  {
   "cell_type": "code",
   "execution_count": 15,
   "metadata": {},
   "outputs": [
    {
     "name": "stdout",
     "output_type": "stream",
     "text": [
      "Tested 0 samples.\n",
      "Tested 500 samples.\n",
      "Tested 1000 samples.\n",
      "Tested 1500 samples.\n"
     ]
    }
   ],
   "source": [
    "to_sort=[]\n",
    "for i in models:\n",
    "    to_sort.append((models[i][0],i))\n",
    "\n",
    "to_sort=sorted(to_sort,reverse=True)\n",
    "best_model=models[to_sort[0][1]]\n",
    "final_predictionn=predict(best_model[1],best_model[2],test_data)"
   ]
  },
  {
   "cell_type": "markdown",
   "metadata": {},
   "source": [
    "# Part 3.3"
   ]
  },
  {
   "cell_type": "code",
   "execution_count": 29,
   "metadata": {},
   "outputs": [
    {
     "name": "stdout",
     "output_type": "stream",
     "text": [
      "Accuracy is: 96.4 %\n",
      "[[934  66]\n",
      " [  6 994]]\n",
      "Precision, recall, f1score is: \n",
      "(array([0.934, 0.994]), array([0.99361702, 0.93773585]), array([0.9628866 , 0.96504854]), array([ 940, 1060], dtype=int64))\n",
      "\n",
      "Roc curve: \n"
     ]
    }
   ],
   "source": [
    "print_accuracy(get_accuracy(final_predictionn,test_labels))\n",
    "print(confusion_matrix(test_labels, final_predictionn))\n",
    "print(\"Precision, recall, f1score is: \")\n",
    "print(precision_recall_fscore_support(final_predictionn,test_labels))\n",
    "print()\n",
    "\n",
    "la,lb,lc=roc_curve(final_predictionn,test_labels,pos_label=2)"
   ]
  },
  {
   "cell_type": "code",
   "execution_count": 30,
   "metadata": {},
   "outputs": [
    {
     "name": "stdout",
     "output_type": "stream",
     "text": [
      "Roc curve: \n"
     ]
    },
    {
     "data": {
      "image/png": "[encoded data removed]",
      "text/plain": [
       "<Figure size 432x288 with 1 Axes>"
      ]
     },
     "metadata": {
      "needs_background": "light"
     },
     "output_type": "display_data"
    }
   ],
   "source": [
    "print(\"Roc curve: \")\n",
    "plt.plot(la,lb)\n",
    "plt.show()"
   ]
  },
  {
   "cell_type": "code",
   "execution_count": null,
   "metadata": {},
   "outputs": [],
   "source": []
  }
 ],
 "metadata": {
  "kernelspec": {
   "display_name": "Python 3",
   "language": "python",
   "name": "python3"
  },
  "language_info": {
   "codemirror_mode": {
    "name": "ipython",
    "version": 3
   },
   "file_extension": ".py",
   "mimetype": "text/x-python",
   "name": "python",
   "nbconvert_exporter": "python",
   "pygments_lexer": "ipython3",
   "version": "3.8.5"
  }
 },
 "nbformat": 4,
 "nbformat_minor": 4
}

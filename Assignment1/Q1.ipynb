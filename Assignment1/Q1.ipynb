{
 "cells": [
  {
   "cell_type": "markdown",
   "metadata": {},
   "source": [
    "# Ques 1"
   ]
  },
  {
   "cell_type": "code",
   "execution_count": 1,
   "metadata": {},
   "outputs": [],
   "source": [
    "import numpy as np\n",
    "import matplotlib.pyplot as plt\n",
    "import random\n",
    "from sklearn.linear_model import Lasso,Ridge\n",
    "from sklearn.model_selection import GridSearchCV\n",
    "from sklearn import metrics\n",
    "import math\n",
    "random.seed(0)"
   ]
  },
  {
   "cell_type": "code",
   "execution_count": 2,
   "metadata": {},
   "outputs": [],
   "source": [
    "def train_test_split(data, fraction):\n",
    "    \"\"\" a function that will get dataset and training dataset fraction as input and return x_train, x_test, y_train, y_test \"\"\"\n",
    "    \n",
    "    x_train=[]\n",
    "    x_test=[]\n",
    "    y_train=[]\n",
    "    y_test=[]\n",
    "    \n",
    "    train_samples=len(data)*fraction\n",
    "    \n",
    "    for i in range(len(data)):\n",
    "        one_hot=[0,0,0]\n",
    "        \n",
    "        if(data[i][0]=='M'):\n",
    "            one_hot[0]=1\n",
    "        elif(data[i][0]=='F'):\n",
    "            one_hot[1]=1\n",
    "        else:\n",
    "            one_hot[2]=1\n",
    "            \n",
    "        new_sample=[1]\n",
    "        \n",
    "        for j in one_hot:\n",
    "            new_sample.append(j)\n",
    "        \n",
    "        for j in range(1,9):\n",
    "            new_sample.append(float(data[i][j]))\n",
    "\n",
    "        \n",
    "        \n",
    "        if(i<train_samples):\n",
    "            x_train.append(new_sample[:len(new_sample)-1])\n",
    "            x_test.append(new_sample[-1])\n",
    "            \n",
    "        else:\n",
    "            y_train.append(new_sample[:len(new_sample)-1])\n",
    "            y_test.append(new_sample[-1])\n",
    "    \n",
    "    \n",
    "    return x_train,x_test,y_train,y_test"
   ]
  },
  {
   "cell_type": "code",
   "execution_count": 3,
   "metadata": {},
   "outputs": [],
   "source": [
    "def preprocess(x_train,x_test,y_train,y_test):\n",
    "    x_train=np.array(x_train)\n",
    "    y_train=np.array(y_train)\n",
    "    x_test=np.array(x_test)\n",
    "    y_test=np.array(y_test)\n",
    "    \n",
    "    x_test=x_test.reshape((len(x_test),1))\n",
    "    y_test=y_test.reshape((len(y_test),1))\n",
    "    \n",
    "    return x_train,x_test,y_train,y_test"
   ]
  },
  {
   "cell_type": "code",
   "execution_count": 4,
   "metadata": {},
   "outputs": [],
   "source": [
    "file = open('abalone.data', 'r')\n",
    "file = file.readlines()\n",
    "\n",
    "\n",
    "# I will be using one hot encoding for sex as we need to have numeric values and not characters, that is, will add 3 columns\n",
    "# if sex=M, then columns will contain 1 0 0\n",
    "# if sex=F, then columns will contain 0 1 0\n",
    "# if sex=I, then columns will contain 0 0 1\n",
    "# also I will be adding another feature which will always be 1 (to get the weight w0, known as bias)\n",
    "# hence in this case I will have 10 (3+7) input features\n",
    "\n",
    "train_data=[]\n",
    "test_data=[]\n",
    "\n",
    "# Random shuffling\n",
    "random.shuffle(file)\n",
    "\n",
    "# splitting each string to make it to 9 features\n",
    "for i in range(len(file)):\n",
    "    file[i]= file[i].strip('\\n')\n",
    "    file[i]=file[i].split(',')\n",
    "    \n",
    "\n",
    "x_train,x_test,y_train,y_test=train_test_split(file,0.8)\n",
    "x_train,x_test,y_train,y_test=preprocess(x_train,x_test,y_train,y_test)\n"
   ]
  },
  {
   "cell_type": "markdown",
   "metadata": {},
   "source": [
    "# Part 1.1"
   ]
  },
  {
   "cell_type": "code",
   "execution_count": 5,
   "metadata": {},
   "outputs": [],
   "source": [
    "def linear_regression_normal_equation(x_train,x_test,y_train,y_test):\n",
    "    \"\"\" linear regression implemented through normal equation, that is w=(X.T*X)*(X.T*Y) \"\"\"\n",
    "    X=np.array(x_train)\n",
    "    Y=np.array(x_test)\n",
    "    Y=Y.reshape((len(x_test),1))\n",
    "    \n",
    "    w=np.dot(np.linalg.pinv(np.dot(X.T,X)),np.dot(X.T,Y))\n",
    "\n",
    "    rmse_x=0\n",
    "    rmse_y=0\n",
    "    for i in range(len(x_train)):\n",
    "        pred=np.dot(w.T,x_train[i])\n",
    "        rmse_x+=(pred-x_test[i])**2\n",
    "    \n",
    "    rmse_x=rmse_x[0]\n",
    "    rmse_x=rmse_x/len(x_train)\n",
    "    rmse_x=math.sqrt(rmse_x)\n",
    "    \n",
    "    for i in range(len(y_train)):\n",
    "        pred=np.dot(w.T,y_train[i])\n",
    "        rmse_y+=(pred-y_test[i])**2\n",
    "    \n",
    "    rmse_y=rmse_y[0]\n",
    "    rmse_y=rmse_y/len(y_train)\n",
    "    rmse_y=math.sqrt(rmse_y)\n",
    "    \n",
    "    print(w)\n",
    "    print(\"Results using normal equation \")\n",
    "    print(\"RMSE obtained on training set: \"+str(rmse_x))\n",
    "    print(\"RMSE obtained on testing set: \"+str(rmse_y))\n",
    "    \n",
    "    \n",
    "def linear_regression_using_gradient(x_train,x_test,y_train,y_test,lr,epochs):\n",
    "    \"\"\" linear regression implemented through gradient descent, gradient=2/m sigma(h(x)-y)*wi \"\"\"\n",
    "    w=np.random.rand(11,1)\n",
    "    \n",
    "    x_train=np.array(x_train)\n",
    "    x_test=np.array(x_test)\n",
    "    x_test=x_test.reshape(len(x_test),1)\n",
    "    y_train=np.array(y_train)\n",
    "    y_test=np.array(y_test)\n",
    "    y_test=y_test.reshape(len(y_test),1)\n",
    "    \n",
    "    rmse_x_vs_epochs=[]\n",
    "    rmse_y_vs_epochs=[]\n",
    "    \n",
    "    for e in range(epochs):\n",
    "    \n",
    "        grad_calc=0\n",
    "        rmse_x=0\n",
    "        rmse_y=0\n",
    "        \n",
    "        x_pred=np.dot(x_train,w)\n",
    "\n",
    "        grad=np.matmul(x_train.T,x_pred-x_test)\n",
    "        grad=grad/len(x_train)\n",
    "\n",
    "        rmse_x=np.dot((x_pred-x_test).T,x_pred-x_test)\n",
    "        rmse_x=rmse_x/len(x_train)\n",
    "        rmse_x=math.sqrt(rmse_x)\n",
    "        rmse_x_vs_epochs.append((rmse_x,e))\n",
    "        \n",
    "        y_pred=np.dot(y_train,w)\n",
    "        rmse_y=np.dot((y_pred-y_test).T,y_pred-y_test)\n",
    "\n",
    "        rmse_y=rmse_y/len(y_train)\n",
    "        rmse_y=math.sqrt(rmse_y)\n",
    "        rmse_y_vs_epochs.append((rmse_y,e))\n",
    "        \n",
    "        w=w-grad*lr\n",
    "    print(w)\n",
    "    return rmse_x_vs_epochs,rmse_y_vs_epochs\n",
    "    "
   ]
  },
  {
   "cell_type": "code",
   "execution_count": 6,
   "metadata": {},
   "outputs": [
    {
     "name": "stdout",
     "output_type": "stream",
     "text": [
      "[[ 3.61638395]\n",
      " [ 1.66646466]\n",
      " [ 1.80694068]\n",
      " [ 0.60320573]\n",
      " [ 3.78423796]\n",
      " [ 3.46148114]\n",
      " [ 3.10294972]\n",
      " [ 2.88255042]\n",
      " [-8.29736872]\n",
      " [-0.37173961]\n",
      " [ 7.49250995]]\n"
     ]
    }
   ],
   "source": [
    "rmse_x_vs_epochs,rmse_y_vs_epochs=linear_regression_using_gradient(x_train,x_test,y_train,y_test,0.4,500)"
   ]
  },
  {
   "cell_type": "code",
   "execution_count": 7,
   "metadata": {},
   "outputs": [
    {
     "name": "stdout",
     "output_type": "stream",
     "text": [
      "(2.3057035597352282, 499)\n"
     ]
    }
   ],
   "source": [
    "print(rmse_x_vs_epochs[-1])"
   ]
  },
  {
   "cell_type": "code",
   "execution_count": 8,
   "metadata": {},
   "outputs": [
    {
     "name": "stdout",
     "output_type": "stream",
     "text": [
      "[[  2.82819714]\n",
      " [  1.23107879]\n",
      " [  1.24441768]\n",
      " [  0.35270067]\n",
      " [  0.46071015]\n",
      " [  9.65849988]\n",
      " [  9.83133022]\n",
      " [  8.66370115]\n",
      " [-19.28777235]\n",
      " [-10.08164727]\n",
      " [  9.12402236]]\n",
      "Results using normal equation \n",
      "RMSE obtained on training set: 2.1815450172812008\n",
      "RMSE obtained on testing set: 2.233732312296196\n"
     ]
    }
   ],
   "source": [
    "linear_regression_normal_equation(x_train,x_test,y_train,y_test)"
   ]
  },
  {
   "cell_type": "code",
   "execution_count": 9,
   "metadata": {},
   "outputs": [
    {
     "data": {
      "image/png": "[encoded data removed]",
      "text/plain": [
       "<Figure size 432x288 with 1 Axes>"
      ]
     },
     "metadata": {
      "needs_background": "light"
     },
     "output_type": "display_data"
    }
   ],
   "source": [
    "for i in rmse_x_vs_epochs:\n",
    "    plt.scatter(i[1],i[0],c='b')\n",
    "\n",
    "plt.xlabel('epochs')\n",
    "plt.ylabel('RMSE')\n",
    "\n",
    "plt.title('Training set rmse vs epochs (linear regression from scratch)')\n",
    "plt.show()"
   ]
  },
  {
   "cell_type": "code",
   "execution_count": 10,
   "metadata": {},
   "outputs": [
    {
     "data": {
      "image/png": "[encoded data removed]",
      "text/plain": [
       "<Figure size 432x288 with 1 Axes>"
      ]
     },
     "metadata": {
      "needs_background": "light"
     },
     "output_type": "display_data"
    }
   ],
   "source": [
    "for i in rmse_y_vs_epochs:\n",
    "    plt.scatter(i[1],i[0],c='b')\n",
    "\n",
    "plt.xlabel('epochs')\n",
    "plt.ylabel('RMSE')\n",
    "\n",
    "plt.title('Testing set rmse vs epochs (linear regression from scratch)')\n",
    "plt.show()"
   ]
  },
  {
   "cell_type": "markdown",
   "metadata": {},
   "source": [
    "# Part 1.2 a)"
   ]
  },
  {
   "cell_type": "code",
   "execution_count": 51,
   "metadata": {},
   "outputs": [],
   "source": [
    "def ridge_regression(x_train,x_test,y_train,y_test):\n",
    "    \n",
    "    rmse_list=[]\n",
    "    alpha=np.linspace(0.01,1,500)\n",
    "    for i in alpha:\n",
    "        model=Ridge(alpha=i,normalize=True,random_state=0)\n",
    "        model.fit(x_train,x_test)\n",
    "        pred=model.predict(y_train)\n",
    "        \n",
    "        y_test=y_test.reshape(-1)\n",
    "        rmse=metrics.mean_squared_error(y_test, pred,squared=False)\n",
    "            \n",
    "        rmse_list.append(rmse)\n",
    "        \n",
    "    for i in range(len(alpha)):\n",
    "        plt.scatter(alpha[i],rmse_list[i],c='b')\n",
    "\n",
    "    plt.xlabel('Alpha')\n",
    "    plt.ylabel('RMSE')\n",
    "\n",
    "    plt.title('Testing set rmse vs alpha ')\n",
    "    plt.show()\n",
    "    "
   ]
  },
  {
   "cell_type": "code",
   "execution_count": 52,
   "metadata": {},
   "outputs": [
    {
     "data": {
      "image/png": "[encoded data removed]",
      "text/plain": [
       "<Figure size 432x288 with 1 Axes>"
      ]
     },
     "metadata": {
      "needs_background": "light"
     },
     "output_type": "display_data"
    }
   ],
   "source": [
    "ridge_regression(x_train,x_test,y_train,y_test)"
   ]
  },
  {
   "cell_type": "code",
   "execution_count": 49,
   "metadata": {},
   "outputs": [],
   "source": [
    "def lasso_regression(x_train,x_test,y_train,y_test):\n",
    "            \n",
    "    rmse_list=[]\n",
    "    alpha=np.linspace(1e-4,1,1000)\n",
    "    for i in alpha:\n",
    "        model=Lasso(alpha=i)\n",
    "        model.fit(x_train,x_test)\n",
    "        pred=model.predict(y_train)\n",
    "        rmse=metrics.mean_squared_error(y_test, pred,squared=False)\n",
    "        rmse_list.append(rmse)\n",
    "        \n",
    "    for i in range(len(alpha)):\n",
    "        plt.scatter(alpha[i],rmse_list[i],c='b')\n",
    "\n",
    "    plt.xlabel('Alpha')\n",
    "    plt.ylabel('RMSE')\n",
    "\n",
    "    plt.title('Testing set rmse vs alpha ')\n",
    "    plt.show()"
   ]
  },
  {
   "cell_type": "code",
   "execution_count": 50,
   "metadata": {},
   "outputs": [
    {
     "data": {
      "image/png": "[encoded data removed]",
      "text/plain": [
       "<Figure size 432x288 with 1 Axes>"
      ]
     },
     "metadata": {
      "needs_background": "light"
     },
     "output_type": "display_data"
    }
   ],
   "source": [
    "lasso_regression(x_train,x_test,y_train,y_test)"
   ]
  },
  {
   "cell_type": "markdown",
   "metadata": {},
   "source": [
    "# Part 1.2 b)"
   ]
  },
  {
   "cell_type": "code",
   "execution_count": 47,
   "metadata": {},
   "outputs": [],
   "source": [
    "def find_best_params(x_train,x_test,y_train,y_test):\n",
    "    ridge=Ridge()\n",
    "    lasso=Lasso()\n",
    "    lrs=np.linspace(1e-4,1,1000)\n",
    "    ridge_model=GridSearchCV(estimator=ridge,param_grid=dict(alpha=lrs))\n",
    "    lasso_model=GridSearchCV(estimator=lasso,param_grid=dict(alpha=lrs))\n",
    "    ridge_model.fit(x_train,x_test)\n",
    "    lasso_model.fit(x_train,x_test)\n",
    "    \n",
    "    print(\"Best alpha estimate for ridge: \"+str(ridge_model.best_estimator_.alpha))\n",
    "    print(\"Best alpha estimate for lasso: \"+str(lasso_model.best_estimator_.alpha))\n",
    "    \n",
    "    print(\"Best coef of ridge \"+str(ridge_model.best_estimator_.coef_))\n",
    "    print(\"Best coef of lasso \"+str(lasso_model.best_estimator_.coef_))\n",
    "    "
   ]
  },
  {
   "cell_type": "code",
   "execution_count": 48,
   "metadata": {},
   "outputs": [
    {
     "name": "stdout",
     "output_type": "stream",
     "text": [
      "Best alpha estimate for ridge: 0.4995495495495495\n",
      "Best alpha estimate for lasso: 0.0021018018018018015\n",
      "Best coef of ridge [[  0.           0.29311446   0.31633844  -0.6094529    2.26100397\n",
      "    7.16360971   8.15681689   7.36493183 -17.79441338  -7.79120804\n",
      "   10.25734113]]\n",
      "Best coef of lasso [ 0.00000000e+00 -0.00000000e+00  1.62016025e-02 -8.98358961e-01\n",
      "  3.45082086e-01  8.81025497e+00  6.99382433e+00  6.99859674e+00\n",
      " -1.76085868e+01 -5.96291949e+00  1.06122607e+01]\n"
     ]
    }
   ],
   "source": [
    "find_best_params(x_train,x_test,y_train,y_test)"
   ]
  }
 ],
 "metadata": {
  "kernelspec": {
   "display_name": "Python 3",
   "language": "python",
   "name": "python3"
  },
  "language_info": {
   "codemirror_mode": {
    "name": "ipython",
    "version": 3
   },
   "file_extension": ".py",
   "mimetype": "text/x-python",
   "name": "python",
   "nbconvert_exporter": "python",
   "pygments_lexer": "ipython3",
   "version": "3.8.5"
  }
 },
 "nbformat": 4,
 "nbformat_minor": 4
}
